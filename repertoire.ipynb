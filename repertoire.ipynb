{
 "cells": [
  {
   "cell_type": "code",
   "execution_count": null,
   "metadata": {},
   "outputs": [],
   "source": [
    "import pandas as pd\n",
    "\n",
    "sheet_name = \"Opera San Jose\"\n",
    "df = pd.read_excel('Repertoire.xlsx',sheet_name=sheet_name)\n",
    "df.head()"
   ]
  },
  {
   "cell_type": "code",
   "execution_count": null,
   "metadata": {},
   "outputs": [],
   "source": [
    "df = df.loc[(df['Repertoire'].isnull()==True)]\n",
    "df.rename(columns={\"Event Name\": \"EventName\"}, inplace=True)\n",
    "df[['EventName','Repertoire']].to_csv(\"output.csv\", index=False)\n",
    "df.head()"
   ]
  },
  {
   "cell_type": "code",
   "execution_count": null,
   "metadata": {},
   "outputs": [],
   "source": [
    "sample_std_df = pd.read_csv('output.csv')\n",
    "variables = dict(zip(sample_std_df.EventName,sample_std_df.Repertoire))\n",
    "# variables = sample_std_df.to_dict(orient=\"series\")\n",
    "# variables_str = '\\n'.join(str(row) for row in variables)\n",
    "variables"
   ]
  },
  {
   "cell_type": "code",
   "execution_count": 8,
   "metadata": {},
   "outputs": [],
   "source": [
    "import os\n",
    "\n",
    "from langchain_openai.chat_models import ChatOpenAI\n",
    "from langchain.prompts import PromptTemplate, SystemMessagePromptTemplate, ChatPromptTemplate\n",
    "from langchain.schema import SystemMessage\n",
    "from langchain.output_parsers import PydanticOutputParser"
   ]
  },
  {
   "cell_type": "code",
   "execution_count": 26,
   "metadata": {},
   "outputs": [],
   "source": [
    "openai_devapi = os.getenv(\"openaidev_api\")\n",
    "# print(openai_devapi)"
   ]
  },
  {
   "cell_type": "code",
   "execution_count": 39,
   "metadata": {},
   "outputs": [],
   "source": [
    "repertoire_generation_prompt = \"\"\"\n",
    "You are given a list of events that need to be labeled with their corresponding repertoire (now marked as nan) {variables}.\n",
    "The only valid repertoire categories are: Top20, New Work, and Inherited. Use the following criteria to assign the correct category:\n",
    "\n",
    "Repertoire Criteria:\n",
    "1. Inherited – European-origin operas composed around 1925 or earlier (e.g., Mozart, Puccini, Gilbert & Sullivan).\n",
    "2. New Work – Includes:\n",
    "    -- New Operas – Composed after 1925, regardless of origin (e.g., Ainadamar, Moby Dick, Britten, Saariaho, Adès).\n",
    "    -- American Work – Operas written in North America, regardless of composition date (e.g., Porgy & Bess).\n",
    "\n",
    "For each unmarked event, assign the appropriate repertoire using one of the three options: Top20, New Work, or Inherited.\n",
    "\n",
    "Mark with only one word per event, strictly choosing from the allowed repertoire values—no explanations or extra text.\n",
    "You need to replace the repertoire in the place of nan. Return the dictionary with event name and repertoire.\n",
    "Return in json format.\n",
    "\"\"\""
   ]
  },
  {
   "cell_type": "code",
   "execution_count": 122,
   "metadata": {},
   "outputs": [],
   "source": [
    "chat = ChatOpenAI(temperature=0.1, model_name=\"gpt-4o\", openai_api_key=openai_devapi)\n",
    "\n",
    "prompt_template = PromptTemplate(template=repertoire_generation_prompt, input_variables=variables)\n",
    "\n",
    "\n",
    "system_message = SystemMessagePromptTemplate(prompt=prompt_template)\n",
    "chat_message = system_message.format_messages(variables=variables)\n",
    "\n",
    "response = chat.invoke(chat_message)"
   ]
  },
  {
   "cell_type": "code",
   "execution_count": null,
   "metadata": {},
   "outputs": [],
   "source": [
    "print(chat_message)"
   ]
  },
  {
   "cell_type": "code",
   "execution_count": null,
   "metadata": {},
   "outputs": [],
   "source": [
    "# response_cincinatti = response.content\n",
    "print(response.content)"
   ]
  },
  {
   "cell_type": "code",
   "execution_count": null,
   "metadata": {},
   "outputs": [],
   "source": [
    "# with open(\"response_sanjose.txt\",\"a\") as f:\n",
    "#     f.write(response.content)"
   ]
  },
  {
   "cell_type": "code",
   "execution_count": 141,
   "metadata": {},
   "outputs": [],
   "source": [
    "final_response = response.content\n",
    "\n",
    "if \"```json\" in final_response:\n",
    "    _, final_response = final_response.split(\"```json\")\n",
    "if \"```\" in final_response:\n",
    "    final_response, _ = final_response.split(\"```\")"
   ]
  },
  {
   "cell_type": "code",
   "execution_count": null,
   "metadata": {},
   "outputs": [],
   "source": [
    "print(final_response)"
   ]
  },
  {
   "cell_type": "code",
   "execution_count": null,
   "metadata": {},
   "outputs": [],
   "source": [
    "import json\n",
    "\n",
    "# df = pd.read_excel(\"Repertoire.xlsx\")\n",
    "\n",
    "final_json = json.loads(final_response)\n",
    "final_df = pd.DataFrame(final_json, index=[\"Event Name\"]).transpose().reset_index()\n",
    "final_df = final_df.rename(columns={\"index\": \"Event Name\", \"Event Name\": \"Repertoire\"})\n",
    "# final_df.to_csv(\"output.csv\", index=False)\n",
    "final_file = pd.merge(final_df, df, how=\"outer\").drop_duplicates(subset=['Event Name'])\n",
    "final_file\n",
    "# final_file.replace('New', 'New Work', inplace=True)\n",
    "# final_file.replace('Top20', 'Top 20', inplace=True)\n",
    "# final_file.to_excel(f\"{sheet_name}.xlsx\", index=False)"
   ]
  }
 ],
 "metadata": {
  "kernelspec": {
   "display_name": ".venv",
   "language": "python",
   "name": "python3"
  },
  "language_info": {
   "codemirror_mode": {
    "name": "ipython",
    "version": 3
   },
   "file_extension": ".py",
   "mimetype": "text/x-python",
   "name": "python",
   "nbconvert_exporter": "python",
   "pygments_lexer": "ipython3",
   "version": "3.10.12"
  }
 },
 "nbformat": 4,
 "nbformat_minor": 2
}
